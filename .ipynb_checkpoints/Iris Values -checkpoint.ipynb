{
 "cells": [
  {
   "cell_type": "code",
   "execution_count": 2,
   "metadata": {},
   "outputs": [],
   "source": [
    "import pandas as pd\n",
    "columns_names=[\"SepalLength\" , \"SepalWidth\" , \"PetalLength\" , \"PetalWidth\" , \"Species\" ] \n",
    "iris=pd.read_csv('https://archive.ics.uci.edu/ml/machine-learning-databases/iris/iris.data',names=columns_names)  "
   ]
  },
  {
   "cell_type": "code",
   "execution_count": 3,
   "metadata": {},
   "outputs": [
    {
     "data": {
      "text/html": [
       "<div>\n",
       "<style scoped>\n",
       "    .dataframe tbody tr th:only-of-type {\n",
       "        vertical-align: middle;\n",
       "    }\n",
       "\n",
       "    .dataframe tbody tr th {\n",
       "        vertical-align: top;\n",
       "    }\n",
       "\n",
       "    .dataframe thead th {\n",
       "        text-align: right;\n",
       "    }\n",
       "</style>\n",
       "<table border=\"1\" class=\"dataframe\">\n",
       "  <thead>\n",
       "    <tr style=\"text-align: right;\">\n",
       "      <th></th>\n",
       "      <th>SepalLength</th>\n",
       "      <th>SepalWidth</th>\n",
       "      <th>PetalLength</th>\n",
       "      <th>PetalWidth</th>\n",
       "      <th>Species</th>\n",
       "    </tr>\n",
       "  </thead>\n",
       "  <tbody>\n",
       "    <tr>\n",
       "      <th>0</th>\n",
       "      <td>5.1</td>\n",
       "      <td>3.5</td>\n",
       "      <td>1.4</td>\n",
       "      <td>0.2</td>\n",
       "      <td>Iris-setosa</td>\n",
       "    </tr>\n",
       "    <tr>\n",
       "      <th>1</th>\n",
       "      <td>4.9</td>\n",
       "      <td>3.0</td>\n",
       "      <td>1.4</td>\n",
       "      <td>0.2</td>\n",
       "      <td>Iris-setosa</td>\n",
       "    </tr>\n",
       "    <tr>\n",
       "      <th>2</th>\n",
       "      <td>4.7</td>\n",
       "      <td>3.2</td>\n",
       "      <td>1.3</td>\n",
       "      <td>0.2</td>\n",
       "      <td>Iris-setosa</td>\n",
       "    </tr>\n",
       "    <tr>\n",
       "      <th>3</th>\n",
       "      <td>4.6</td>\n",
       "      <td>3.1</td>\n",
       "      <td>1.5</td>\n",
       "      <td>0.2</td>\n",
       "      <td>Iris-setosa</td>\n",
       "    </tr>\n",
       "    <tr>\n",
       "      <th>4</th>\n",
       "      <td>5.0</td>\n",
       "      <td>3.6</td>\n",
       "      <td>1.4</td>\n",
       "      <td>0.2</td>\n",
       "      <td>Iris-setosa</td>\n",
       "    </tr>\n",
       "  </tbody>\n",
       "</table>\n",
       "</div>"
      ],
      "text/plain": [
       "   SepalLength  SepalWidth  PetalLength  PetalWidth      Species\n",
       "0          5.1         3.5          1.4         0.2  Iris-setosa\n",
       "1          4.9         3.0          1.4         0.2  Iris-setosa\n",
       "2          4.7         3.2          1.3         0.2  Iris-setosa\n",
       "3          4.6         3.1          1.5         0.2  Iris-setosa\n",
       "4          5.0         3.6          1.4         0.2  Iris-setosa"
      ]
     },
     "execution_count": 3,
     "metadata": {},
     "output_type": "execute_result"
    }
   ],
   "source": [
    "iris.head()"
   ]
  },
  {
   "cell_type": "code",
   "execution_count": 36,
   "metadata": {},
   "outputs": [
    {
     "name": "stdout",
     "output_type": "stream",
     "text": [
      "4.3 2.3 1.0 0.1 Iris-setosa \n",
      "5.8 4.4 1.9 0.6 Iris-setosa \n",
      "5.005999999999999 3.4180000000000006 1.464 0.2439999999999999 \n",
      "4.9 2.2 4.5 1.4 Iris-virginica \n",
      "7.9 3.8 6.9 2.5 Iris-virginica \n",
      "6.587999999999998 2.9739999999999998 5.552 2.026 \n",
      "4.9 2.0 3.0 1.0 Iris-versicolor \n",
      "7.0 3.4 5.1 1.8 Iris-versicolor \n",
      "5.936 2.7700000000000005 4.26 1.3259999999999998 \n"
     ]
    }
   ],
   "source": [
    "Irissetosa = iris[iris['Species'] == 'Iris-setosa']\n",
    "Irisversicolor = iris[iris['Species'] == 'Iris-versicolor']\n",
    "Irisvirginica = iris[iris['Species'] == 'Iris-virginica']\n",
    "setoamin = Irissetosa[['SepalLength','SepalWidth','PetalLength','PetalWidth','Species']].min()\n",
    "setoamax = Irissetosa[['SepalLength','SepalWidth','PetalLength','PetalWidth','Species']].max()\n",
    "setoaavg = Irissetosa[['SepalLength','SepalWidth','PetalLength','PetalWidth','Species']].mean()\n",
    "\n",
    "virginicamin = Irisvirginica[['SepalLength','SepalWidth','PetalLength','PetalWidth','Species']].min()\n",
    "virginicamax = Irisvirginica[['SepalLength','SepalWidth','PetalLength','PetalWidth','Species']].max()\n",
    "virginicaavg = Irisvirginica[['SepalLength','SepalWidth','PetalLength','PetalWidth','Species']].mean()\n",
    "\n",
    "versicolormin = Irisversicolor[['SepalLength','SepalWidth','PetalLength','PetalWidth','Species']].min()\n",
    "versicolormax = Irisversicolor[['SepalLength','SepalWidth','PetalLength','PetalWidth','Species']].max()\n",
    "versicoloravg = Irisversicolor[['SepalLength','SepalWidth','PetalLength','PetalWidth','Species']].mean()\n",
    "\n",
    "for i in setoamin:\n",
    "    print(i,end=\" \")\n",
    "print()\n",
    "for i in setoamax:\n",
    "    print(i,end=\" \")\n",
    "print()\n",
    "for i in setoaavg:\n",
    "    print(i,end=\" \")\n",
    "print()\n",
    "for i in virginicamin:\n",
    "    print(i,end=\" \")\n",
    "print()\n",
    "for i in virginicamax:\n",
    "    print(i,end=\" \")\n",
    "print()\n",
    "for i in virginicaavg:\n",
    "    print(i,end=\" \")\n",
    "print()\n",
    "for i in versicolormin:\n",
    "    print(i,end=\" \")\n",
    "print()\n",
    "for i in versicolormax:\n",
    "    print(i,end=\" \")\n",
    "print()\n",
    "for i in versicoloravg:\n",
    "    print(i,end=\" \")\n",
    "print()\n"
   ]
  },
  {
   "cell_type": "code",
   "execution_count": null,
   "metadata": {},
   "outputs": [],
   "source": []
  }
 ],
 "metadata": {
  "kernelspec": {
   "display_name": "Python 3",
   "language": "python",
   "name": "python3"
  },
  "language_info": {
   "codemirror_mode": {
    "name": "ipython",
    "version": 3
   },
   "file_extension": ".py",
   "mimetype": "text/x-python",
   "name": "python",
   "nbconvert_exporter": "python",
   "pygments_lexer": "ipython3",
   "version": "3.7.3"
  }
 },
 "nbformat": 4,
 "nbformat_minor": 2
}
