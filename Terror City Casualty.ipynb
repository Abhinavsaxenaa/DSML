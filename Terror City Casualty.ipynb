# import csv
# import numpy as np
# with open('terrorismData.csv') as file_obj:
#     file_data = csv.DictReader(file_obj,skipinitialspace = True)
#     wound =[]
#     kill =[]
#     city = []
#     for i in file_data:
#         if  'India' in i['Country'] and 'Unknown' not in i['City']:
#             kill.append(i['Killed'])
#             wound.append(i['Wounded'])
#             city.append(i['City'])
            
#     npKill = np.array(kill)
#     npKill[npKill == ''] = 0
#     npWnd = np.array(wound)
#     npWnd[npWnd == ''] =0
#     npKill = np.array(npKill,dtype = float)
#     npWnd = np.array(npWnd,dtype = float)
    
#     npcas = np.array(npWnd + npKill)
#     npcity = np.array(city)
#     ind  = npcas.argsort()
#     for i in ind[1:6]:
#         print(npcity[i], npcas[i])
        
        
        
## Open and read data file as specified in the question
## Print the required output in given format
## Open and read data file as specified in the question
## Print the required output in given format
import csv
import numpy as np
with open("terrorismData.csv") as file:
    file_obj = csv.DictReader(file,skipinitialspace = False)
    killed = []
    wounded = []
    city = []
    
    for row in file_obj:
        if "India" in row["Country"]:
            killed.append(row["Killed"])
            wounded.append(row["Wounded"])
            city.append(row["City"])
        
    killed = np.array(killed)
    wounded = np.array(wounded)
    
    killed_bool = killed == ""
    wounded_bool = wounded == ""
    
    killed[killed_bool] = "0.0"
    wounded[wounded_bool] = "0.0"
    
    killed = np.array(killed, dtype = float)
    wounded = np.array(wounded, dtype = float)
    
    casualty = (killed + wounded)
    # casualty = np.array(casualty,dtype = int)
    dic = {}
    for i in range(len(city)):
        key = city[i]
        value = casualty[i]
        
        if key != "":
            if key in dic:
                dic[key] +=value
            else:
                dic[key] = value
    
    dic = sorted(dic.items(), key=lambda x: x[1], reverse=True)
    count = 0
    i = 0
    while (count<5):
        if "Unknown" not in dic[i][0]:
            print(dic[i][0]," ",int(dic[i][1]))
            count += 1
        i += 1
            